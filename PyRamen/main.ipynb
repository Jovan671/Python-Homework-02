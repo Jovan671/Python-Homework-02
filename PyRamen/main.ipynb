{
 "cells": [
  {
   "cell_type": "code",
   "execution_count": 745,
   "id": "secret-belarus",
   "metadata": {},
   "outputs": [],
   "source": [
    "import pandas as pd"
   ]
  },
  {
   "cell_type": "code",
   "execution_count": 746,
   "id": "tender-bread",
   "metadata": {},
   "outputs": [],
   "source": [
    "import csv\n",
    "from pathlib import Path"
   ]
  },
  {
   "cell_type": "code",
   "execution_count": 747,
   "id": "appropriate-mambo",
   "metadata": {},
   "outputs": [],
   "source": [
    "menu_file_path = Path(\"Resources\\MenuData.csv\")\n",
    "sales_file_path = Path(\"Resources\\SalesData.csv\")"
   ]
  },
  {
   "cell_type": "code",
   "execution_count": 748,
   "id": "alone-albany",
   "metadata": {},
   "outputs": [
    {
     "data": {
      "text/html": [
       "<div>\n",
       "<style scoped>\n",
       "    .dataframe tbody tr th:only-of-type {\n",
       "        vertical-align: middle;\n",
       "    }\n",
       "\n",
       "    .dataframe tbody tr th {\n",
       "        vertical-align: top;\n",
       "    }\n",
       "\n",
       "    .dataframe thead th {\n",
       "        text-align: right;\n",
       "    }\n",
       "</style>\n",
       "<table border=\"1\" class=\"dataframe\">\n",
       "  <thead>\n",
       "    <tr style=\"text-align: right;\">\n",
       "      <th></th>\n",
       "      <th>item</th>\n",
       "      <th>category</th>\n",
       "      <th>description</th>\n",
       "      <th>price</th>\n",
       "      <th>cost</th>\n",
       "    </tr>\n",
       "  </thead>\n",
       "  <tbody>\n",
       "    <tr>\n",
       "      <th>0</th>\n",
       "      <td>edamame</td>\n",
       "      <td>appetizers</td>\n",
       "      <td>boiled soybeans, maldon sea salt</td>\n",
       "      <td>4.0</td>\n",
       "      <td>1</td>\n",
       "    </tr>\n",
       "    <tr>\n",
       "      <th>1</th>\n",
       "      <td>house salad</td>\n",
       "      <td>appetizers</td>\n",
       "      <td>mixed greens, cherry tomatoes, cucumber, house...</td>\n",
       "      <td>4.0</td>\n",
       "      <td>2</td>\n",
       "    </tr>\n",
       "    <tr>\n",
       "      <th>2</th>\n",
       "      <td>cucumber sunomono salad</td>\n",
       "      <td>appetizers</td>\n",
       "      <td>cucumber, ponzu dressing, pickled ginger sprou...</td>\n",
       "      <td>5.0</td>\n",
       "      <td>2</td>\n",
       "    </tr>\n",
       "    <tr>\n",
       "      <th>3</th>\n",
       "      <td>hiyashi wakame seaweed salad</td>\n",
       "      <td>appetizers</td>\n",
       "      <td>sweet soy-marinated wakame seaweed threads, pi...</td>\n",
       "      <td>5.0</td>\n",
       "      <td>2</td>\n",
       "    </tr>\n",
       "    <tr>\n",
       "      <th>4</th>\n",
       "      <td>agedashi tofu</td>\n",
       "      <td>appetizers</td>\n",
       "      <td>tempura battered tofu, katsuobushi, tsuyu brot...</td>\n",
       "      <td>5.0</td>\n",
       "      <td>2</td>\n",
       "    </tr>\n",
       "    <tr>\n",
       "      <th>5</th>\n",
       "      <td>hiyayakko tofu</td>\n",
       "      <td>appetizers</td>\n",
       "      <td>chilled soft tofu, house shoyu, katsuobushi, g...</td>\n",
       "      <td>5.0</td>\n",
       "      <td>2</td>\n",
       "    </tr>\n",
       "    <tr>\n",
       "      <th>6</th>\n",
       "      <td>pork floss bao</td>\n",
       "      <td>appetizers</td>\n",
       "      <td>two steamed buns, minced lean slow braised nim...</td>\n",
       "      <td>4.0</td>\n",
       "      <td>2</td>\n",
       "    </tr>\n",
       "    <tr>\n",
       "      <th>7</th>\n",
       "      <td>kakuni bao</td>\n",
       "      <td>appetizers</td>\n",
       "      <td>two steamed buns, chopped fatty slow braised n...</td>\n",
       "      <td>6.0</td>\n",
       "      <td>3</td>\n",
       "    </tr>\n",
       "    <tr>\n",
       "      <th>8</th>\n",
       "      <td>edamame fried gyoza (vegan)</td>\n",
       "      <td>appetizers</td>\n",
       "      <td>six crispy fried edamame and cabbage pot stick...</td>\n",
       "      <td>6.0</td>\n",
       "      <td>3</td>\n",
       "    </tr>\n",
       "    <tr>\n",
       "      <th>9</th>\n",
       "      <td>fried gyoza</td>\n",
       "      <td>appetizers</td>\n",
       "      <td>six cripsy fried pork and vegetable pot sticke...</td>\n",
       "      <td>6.0</td>\n",
       "      <td>6</td>\n",
       "    </tr>\n",
       "  </tbody>\n",
       "</table>\n",
       "</div>"
      ],
      "text/plain": [
       "                           item    category  \\\n",
       "0                       edamame  appetizers   \n",
       "1                   house salad  appetizers   \n",
       "2       cucumber sunomono salad  appetizers   \n",
       "3  hiyashi wakame seaweed salad  appetizers   \n",
       "4                 agedashi tofu  appetizers   \n",
       "5                hiyayakko tofu  appetizers   \n",
       "6                pork floss bao  appetizers   \n",
       "7                    kakuni bao  appetizers   \n",
       "8   edamame fried gyoza (vegan)  appetizers   \n",
       "9                   fried gyoza  appetizers   \n",
       "\n",
       "                                         description  price  cost  \n",
       "0                   boiled soybeans, maldon sea salt    4.0     1  \n",
       "1  mixed greens, cherry tomatoes, cucumber, house...    4.0     2  \n",
       "2  cucumber, ponzu dressing, pickled ginger sprou...    5.0     2  \n",
       "3  sweet soy-marinated wakame seaweed threads, pi...    5.0     2  \n",
       "4  tempura battered tofu, katsuobushi, tsuyu brot...    5.0     2  \n",
       "5  chilled soft tofu, house shoyu, katsuobushi, g...    5.0     2  \n",
       "6  two steamed buns, minced lean slow braised nim...    4.0     2  \n",
       "7  two steamed buns, chopped fatty slow braised n...    6.0     3  \n",
       "8  six crispy fried edamame and cabbage pot stick...    6.0     3  \n",
       "9  six cripsy fried pork and vegetable pot sticke...    6.0     6  "
      ]
     },
     "execution_count": 748,
     "metadata": {},
     "output_type": "execute_result"
    }
   ],
   "source": [
    "menu_data_file = pd.read_csv(menu_file_path)\n",
    "menu_data_file.head(10)"
   ]
  },
  {
   "cell_type": "code",
   "execution_count": 749,
   "id": "certified-blowing",
   "metadata": {},
   "outputs": [
    {
     "data": {
      "text/html": [
       "<div>\n",
       "<style scoped>\n",
       "    .dataframe tbody tr th:only-of-type {\n",
       "        vertical-align: middle;\n",
       "    }\n",
       "\n",
       "    .dataframe tbody tr th {\n",
       "        vertical-align: top;\n",
       "    }\n",
       "\n",
       "    .dataframe thead th {\n",
       "        text-align: right;\n",
       "    }\n",
       "</style>\n",
       "<table border=\"1\" class=\"dataframe\">\n",
       "  <thead>\n",
       "    <tr style=\"text-align: right;\">\n",
       "      <th></th>\n",
       "      <th>Line_Item_ID</th>\n",
       "      <th>Date</th>\n",
       "      <th>Credit_Card_Number</th>\n",
       "      <th>Quantity</th>\n",
       "      <th>Menu_Item</th>\n",
       "    </tr>\n",
       "  </thead>\n",
       "  <tbody>\n",
       "    <tr>\n",
       "      <th>0</th>\n",
       "      <td>1</td>\n",
       "      <td>01-01-2017</td>\n",
       "      <td>7437926611570799</td>\n",
       "      <td>1</td>\n",
       "      <td>spicy miso ramen</td>\n",
       "    </tr>\n",
       "    <tr>\n",
       "      <th>1</th>\n",
       "      <td>2</td>\n",
       "      <td>01-01-2017</td>\n",
       "      <td>7437926611570799</td>\n",
       "      <td>1</td>\n",
       "      <td>spicy miso ramen</td>\n",
       "    </tr>\n",
       "    <tr>\n",
       "      <th>2</th>\n",
       "      <td>3</td>\n",
       "      <td>01-01-2017</td>\n",
       "      <td>8421920068932819</td>\n",
       "      <td>3</td>\n",
       "      <td>tori paitan ramen</td>\n",
       "    </tr>\n",
       "    <tr>\n",
       "      <th>3</th>\n",
       "      <td>4</td>\n",
       "      <td>01-01-2017</td>\n",
       "      <td>8421920068932819</td>\n",
       "      <td>3</td>\n",
       "      <td>tori paitan ramen</td>\n",
       "    </tr>\n",
       "    <tr>\n",
       "      <th>4</th>\n",
       "      <td>5</td>\n",
       "      <td>01-01-2017</td>\n",
       "      <td>4787310681569648</td>\n",
       "      <td>1</td>\n",
       "      <td>truffle butter ramen</td>\n",
       "    </tr>\n",
       "    <tr>\n",
       "      <th>5</th>\n",
       "      <td>6</td>\n",
       "      <td>01-01-2017</td>\n",
       "      <td>4787310681569648</td>\n",
       "      <td>1</td>\n",
       "      <td>truffle butter ramen</td>\n",
       "    </tr>\n",
       "    <tr>\n",
       "      <th>6</th>\n",
       "      <td>7</td>\n",
       "      <td>01-01-2017</td>\n",
       "      <td>8252818705821725</td>\n",
       "      <td>1</td>\n",
       "      <td>tonkotsu ramen</td>\n",
       "    </tr>\n",
       "    <tr>\n",
       "      <th>7</th>\n",
       "      <td>8</td>\n",
       "      <td>01-01-2017</td>\n",
       "      <td>8252818705821725</td>\n",
       "      <td>1</td>\n",
       "      <td>tonkotsu ramen</td>\n",
       "    </tr>\n",
       "    <tr>\n",
       "      <th>8</th>\n",
       "      <td>9</td>\n",
       "      <td>01-01-2017</td>\n",
       "      <td>3119034881407323</td>\n",
       "      <td>1</td>\n",
       "      <td>vegetarian spicy miso</td>\n",
       "    </tr>\n",
       "    <tr>\n",
       "      <th>9</th>\n",
       "      <td>10</td>\n",
       "      <td>01-01-2017</td>\n",
       "      <td>3119034881407323</td>\n",
       "      <td>1</td>\n",
       "      <td>vegetarian spicy miso</td>\n",
       "    </tr>\n",
       "  </tbody>\n",
       "</table>\n",
       "</div>"
      ],
      "text/plain": [
       "   Line_Item_ID        Date  Credit_Card_Number  Quantity  \\\n",
       "0             1  01-01-2017    7437926611570799         1   \n",
       "1             2  01-01-2017    7437926611570799         1   \n",
       "2             3  01-01-2017    8421920068932819         3   \n",
       "3             4  01-01-2017    8421920068932819         3   \n",
       "4             5  01-01-2017    4787310681569648         1   \n",
       "5             6  01-01-2017    4787310681569648         1   \n",
       "6             7  01-01-2017    8252818705821725         1   \n",
       "7             8  01-01-2017    8252818705821725         1   \n",
       "8             9  01-01-2017    3119034881407323         1   \n",
       "9            10  01-01-2017    3119034881407323         1   \n",
       "\n",
       "               Menu_Item  \n",
       "0       spicy miso ramen  \n",
       "1       spicy miso ramen  \n",
       "2      tori paitan ramen  \n",
       "3      tori paitan ramen  \n",
       "4   truffle butter ramen  \n",
       "5   truffle butter ramen  \n",
       "6         tonkotsu ramen  \n",
       "7         tonkotsu ramen  \n",
       "8  vegetarian spicy miso  \n",
       "9  vegetarian spicy miso  "
      ]
     },
     "execution_count": 749,
     "metadata": {},
     "output_type": "execute_result"
    }
   ],
   "source": [
    "sales_data_file = pd.read_csv(sales_file_path)\n",
    "sales_data_file.head(10)"
   ]
  },
  {
   "cell_type": "code",
   "execution_count": 750,
   "id": "indonesian-hanging",
   "metadata": {},
   "outputs": [],
   "source": [
    "menu = []\n",
    "sales = []"
   ]
  },
  {
   "cell_type": "code",
   "execution_count": 751,
   "id": "accessory-innocent",
   "metadata": {},
   "outputs": [],
   "source": [
    "sales_row_count = []\n",
    "Quantity = []\n",
    "menu_item = []\n",
    "sales_item = []"
   ]
  },
  {
   "cell_type": "code",
   "execution_count": 752,
   "id": "marked-giving",
   "metadata": {},
   "outputs": [],
   "source": [
    "row_count = []\n",
    "item = []\n",
    "price = []\n",
    "cost = []\n",
    "profit = []"
   ]
  },
  {
   "cell_type": "code",
   "execution_count": 753,
   "id": "secret-wound",
   "metadata": {},
   "outputs": [],
   "source": [
    "report = {\n",
    "    \"01-count\": 0,\n",
    "    \"02-revenus\": 0,\n",
    "    \"03-cogs\": 0,\n",
    "    \"04-profit\": 0\n",
    "}"
   ]
  },
  {
   "cell_type": "code",
   "execution_count": 754,
   "id": "found-tumor",
   "metadata": {},
   "outputs": [],
   "source": [
    "with open(menu_file_path) as fin_data:\n",
    "    fin_data = pd.read_csv(fin_data)\n",
    "    index = fin_data.index\n",
    "    row_count = len(index)\n",
    "    price = \"price\"\n",
    "    price = fin_data[price].sum()\n",
    "    cost = \"cost\"\n",
    "    cost = fin_data[cost].sum()\n",
    "    profit = price - cost"
   ]
  },
  {
   "cell_type": "code",
   "execution_count": 755,
   "id": "automatic-migration",
   "metadata": {},
   "outputs": [
    {
     "data": {
      "text/plain": [
       "32"
      ]
     },
     "execution_count": 755,
     "metadata": {},
     "output_type": "execute_result"
    }
   ],
   "source": [
    "row_count"
   ]
  },
  {
   "cell_type": "code",
   "execution_count": 756,
   "id": "controlled-syndicate",
   "metadata": {},
   "outputs": [
    {
     "data": {
      "text/plain": [
       "243.5"
      ]
     },
     "execution_count": 756,
     "metadata": {},
     "output_type": "execute_result"
    }
   ],
   "source": [
    "price"
   ]
  },
  {
   "cell_type": "code",
   "execution_count": 757,
   "id": "british-nevada",
   "metadata": {},
   "outputs": [
    {
     "data": {
      "text/plain": [
       "115"
      ]
     },
     "execution_count": 757,
     "metadata": {},
     "output_type": "execute_result"
    }
   ],
   "source": [
    "cost"
   ]
  },
  {
   "cell_type": "code",
   "execution_count": 758,
   "id": "permanent-training",
   "metadata": {},
   "outputs": [
    {
     "data": {
      "text/plain": [
       "128.5"
      ]
     },
     "execution_count": 758,
     "metadata": {},
     "output_type": "execute_result"
    }
   ],
   "source": [
    "profit"
   ]
  },
  {
   "cell_type": "code",
   "execution_count": 759,
   "id": "radio-convenience",
   "metadata": {},
   "outputs": [],
   "source": [
    "with open(sales_file_path) as fin_sales_data:\n",
    "    fin_sales_data = pd.read_csv(fin_sales_data)\n",
    "    index = fin_sales_data.index\n",
    "    sales_row_count = len(index)\n",
    "    Quantity = \"Quantity\"\n",
    "    Quantity = fin_sales_data[Quantity].sum()\n",
    "    \n",
    "    "
   ]
  },
  {
   "cell_type": "code",
   "execution_count": 760,
   "id": "faced-suspect",
   "metadata": {},
   "outputs": [
    {
     "data": {
      "text/plain": [
       "74124"
      ]
     },
     "execution_count": 760,
     "metadata": {},
     "output_type": "execute_result"
    }
   ],
   "source": [
    "sales_row_count"
   ]
  },
  {
   "cell_type": "code",
   "execution_count": 761,
   "id": "above-finder",
   "metadata": {},
   "outputs": [],
   "source": [
    "revenue = Quantity * price"
   ]
  },
  {
   "cell_type": "code",
   "execution_count": 762,
   "id": "accredited-atlanta",
   "metadata": {},
   "outputs": [
    {
     "data": {
      "text/plain": [
       "24375811.0"
      ]
     },
     "execution_count": 762,
     "metadata": {},
     "output_type": "execute_result"
    }
   ],
   "source": [
    "revenue"
   ]
  },
  {
   "cell_type": "code",
   "execution_count": 763,
   "id": "incident-belle",
   "metadata": {},
   "outputs": [],
   "source": [
    "cog = Quantity * cost"
   ]
  },
  {
   "cell_type": "code",
   "execution_count": 764,
   "id": "manufactured-memorabilia",
   "metadata": {},
   "outputs": [
    {
     "data": {
      "text/plain": [
       "11512190"
      ]
     },
     "execution_count": 764,
     "metadata": {},
     "output_type": "execute_result"
    }
   ],
   "source": [
    "cog"
   ]
  },
  {
   "cell_type": "code",
   "execution_count": 765,
   "id": "roman-diana",
   "metadata": {},
   "outputs": [
    {
     "data": {
      "text/plain": [
       "100106"
      ]
     },
     "execution_count": 765,
     "metadata": {},
     "output_type": "execute_result"
    }
   ],
   "source": [
    "Quantity"
   ]
  },
  {
   "cell_type": "code",
   "execution_count": 766,
   "id": "becoming-border",
   "metadata": {},
   "outputs": [],
   "source": [
    "profit = (Quantity * price)-(Quantity * cost)"
   ]
  },
  {
   "cell_type": "code",
   "execution_count": 767,
   "id": "polyphonic-integrity",
   "metadata": {},
   "outputs": [
    {
     "data": {
      "text/plain": [
       "12863621.0"
      ]
     },
     "execution_count": 767,
     "metadata": {},
     "output_type": "execute_result"
    }
   ],
   "source": [
    "profit"
   ]
  },
  {
   "cell_type": "code",
   "execution_count": 769,
   "id": "polyphonic-merit",
   "metadata": {},
   "outputs": [],
   "source": [
    "f = open(\"Analysis.txt\", \"w\")\n",
    "f.write(f\"Financial analysis\\n\")\n",
    "f.write(f\"--------------------\\n\")\n",
    "f.write(f\"Sales count : {sales_row_count}\\n\")\n",
    "f.write(f\"Sales revenue : {revenue}\\n\")\n",
    "f.write(f\"Cost of goods : {cog}\\n\")\n",
    "f.write(f\"Sales profit : {profit}\\n\")\n",
    "f.close()"
   ]
  }
 ],
 "metadata": {
  "kernelspec": {
   "display_name": "Python 3",
   "language": "python",
   "name": "python3"
  },
  "language_info": {
   "codemirror_mode": {
    "name": "ipython",
    "version": 3
   },
   "file_extension": ".py",
   "mimetype": "text/x-python",
   "name": "python",
   "nbconvert_exporter": "python",
   "pygments_lexer": "ipython3",
   "version": "3.8.5"
  }
 },
 "nbformat": 4,
 "nbformat_minor": 5
}
