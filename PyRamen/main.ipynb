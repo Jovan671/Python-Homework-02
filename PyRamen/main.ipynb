{
 "cells": [
  {
   "cell_type": "code",
   "execution_count": 295,
   "id": "associate-variance",
   "metadata": {},
   "outputs": [],
   "source": [
    "import csv\n",
    "from pathlib import Path"
   ]
  },
  {
   "cell_type": "code",
   "execution_count": 296,
   "id": "stuck-antarctica",
   "metadata": {},
   "outputs": [],
   "source": [
    "menu_file_path = Path(\"Resources\\MenuData.csv\")\n",
    "sales_file_path = Path(\"Resources\\SalesData.csv\")"
   ]
  },
  {
   "cell_type": "code",
   "execution_count": 297,
   "id": "reported-newspaper",
   "metadata": {},
   "outputs": [],
   "source": [
    "menu = []\n",
    "sales = []"
   ]
  },
  {
   "cell_type": "code",
   "execution_count": 298,
   "id": "collectible-belarus",
   "metadata": {},
   "outputs": [],
   "source": [
    "row_count =[]\n",
    "quantity = []\n",
    "menu_item = []"
   ]
  },
  {
   "cell_type": "code",
   "execution_count": 299,
   "id": "objective-christmas",
   "metadata": {},
   "outputs": [],
   "source": [
    "item = []\n",
    "price = []\n",
    "cost = []"
   ]
  },
  {
   "cell_type": "code",
   "execution_count": 300,
   "id": "restricted-arkansas",
   "metadata": {},
   "outputs": [],
   "source": [
    "report = {\n",
    "    \"01-count\": 0,\n",
    "    \"02-revenus\": 0,\n",
    "    \"03-cogs\": 0,\n",
    "    \"04-profit\": 0\n",
    "}"
   ]
  }
 ],
 "metadata": {
  "kernelspec": {
   "display_name": "Python 3",
   "language": "python",
   "name": "python3"
  },
  "language_info": {
   "codemirror_mode": {
    "name": "ipython",
    "version": 3
   },
   "file_extension": ".py",
   "mimetype": "text/x-python",
   "name": "python",
   "nbconvert_exporter": "python",
   "pygments_lexer": "ipython3",
   "version": "3.8.5"
  }
 },
 "nbformat": 4,
 "nbformat_minor": 5
}
