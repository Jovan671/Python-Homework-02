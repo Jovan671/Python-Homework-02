{
 "cells": [
  {
   "cell_type": "code",
   "execution_count": 4,
   "id": "fancy-adventure",
   "metadata": {},
   "outputs": [
    {
     "ename": "ImportError",
     "evalue": "cannot import name 'path' from 'pathlib' (C:\\Users\\Jovan\\anaconda3\\lib\\pathlib.py)",
     "output_type": "error",
     "traceback": [
      "\u001b[1;31m---------------------------------------------------------------------------\u001b[0m",
      "\u001b[1;31mImportError\u001b[0m                               Traceback (most recent call last)",
      "\u001b[1;32m<ipython-input-4-28203a824259>\u001b[0m in \u001b[0;36m<module>\u001b[1;34m\u001b[0m\n\u001b[0;32m      1\u001b[0m \u001b[1;31m# import libraries\u001b[0m\u001b[1;33m\u001b[0m\u001b[1;33m\u001b[0m\u001b[1;33m\u001b[0m\u001b[0m\n\u001b[0;32m      2\u001b[0m \u001b[1;32mimport\u001b[0m \u001b[0mcsv\u001b[0m\u001b[1;33m\u001b[0m\u001b[1;33m\u001b[0m\u001b[0m\n\u001b[1;32m----> 3\u001b[1;33m \u001b[1;32mfrom\u001b[0m \u001b[0mpathlib\u001b[0m \u001b[1;32mimport\u001b[0m \u001b[0mpath\u001b[0m\u001b[1;33m\u001b[0m\u001b[1;33m\u001b[0m\u001b[0m\n\u001b[0m",
      "\u001b[1;31mImportError\u001b[0m: cannot import name 'path' from 'pathlib' (C:\\Users\\Jovan\\anaconda3\\lib\\pathlib.py)"
     ]
    }
   ],
   "source": [
    "# import libraries\n",
    "import csv\n",
    "from pathlib import path"
   ]
  },
  {
   "cell_type": "code",
   "execution_count": null,
   "id": "speaking-right",
   "metadata": {},
   "outputs": [],
   "source": [
    "# file paths for menu_data.csv and sales_data.csv\n",
    "menu_filepath = path('')\n",
    "sales_filepath = path('')"
   ]
  },
  {
   "cell_type": "code",
   "execution_count": 5,
   "id": "indonesian-montgomery",
   "metadata": {},
   "outputs": [],
   "source": [
    "# initialise list object to hold menu and sales data\n",
    "menu = []\n",
    "sales = []"
   ]
  },
  {
   "cell_type": "code",
   "execution_count": 6,
   "id": "reasonable-meeting",
   "metadata": {},
   "outputs": [],
   "source": [
    "# Read in the menu data into list"
   ]
  },
  {
   "cell_type": "code",
   "execution_count": 7,
   "id": "sealed-asset",
   "metadata": {},
   "outputs": [],
   "source": [
    "# Read in the sales data into list"
   ]
  },
  {
   "cell_type": "code",
   "execution_count": 8,
   "id": "organizational-drain",
   "metadata": {},
   "outputs": [],
   "source": [
    "# initialise dict object to hold our key-value pairs of items in metrics\n",
    "report = {}"
   ]
  },
  {
   "cell_type": "code",
   "execution_count": 9,
   "id": "synthetic-respect",
   "metadata": {},
   "outputs": [],
   "source": [
    "# initialise a row counter variable\n",
    "row_count = 0"
   ]
  },
  {
   "cell_type": "code",
   "execution_count": 10,
   "id": "modified-movement",
   "metadata": {},
   "outputs": [],
   "source": [
    "# loop over every row in sales object"
   ]
  },
  {
   "cell_type": "code",
   "execution_count": 11,
   "id": "rapid-florist",
   "metadata": {},
   "outputs": [],
   "source": [
    "# loop over every row in the sales list object"
   ]
  },
  {
   "cell_type": "code",
   "execution_count": 12,
   "id": "allied-forwarding",
   "metadata": {},
   "outputs": [],
   "source": [
    "    # line_item_Id,Date,Credit_Card_Number,Quantity,Menu_Item\n",
    "    # initialise sales data variables"
   ]
  },
  {
   "cell_type": "code",
   "execution_count": 13,
   "id": "catholic-tracy",
   "metadata": {},
   "outputs": [],
   "source": [
    "    # if item value is not int he report, add it as a new enrty as initialised metrics\n",
    "    # naming conventions allows the key to be ordered in logical fashion count, revinue, cost, profit"
   ]
  },
  {
   "cell_type": "code",
   "execution_count": 14,
   "id": "touched-omega",
   "metadata": {},
   "outputs": [],
   "source": [
    "    # for every row in your sales data, loop over menu records to determine match"
   ]
  },
  {
   "cell_type": "code",
   "execution_count": 15,
   "id": "resistant-winning",
   "metadata": {},
   "outputs": [],
   "source": [
    "        # Item,Category,Description,Price,Cost\n",
    "        # initialise menu ddata variables"
   ]
  },
  {
   "cell_type": "code",
   "execution_count": 16,
   "id": "intelligent-clause",
   "metadata": {},
   "outputs": [],
   "source": [
    "        # calculate profit for each item in the menu data"
   ]
  },
  {
   "cell_type": "code",
   "execution_count": 17,
   "id": "bigger-series",
   "metadata": {},
   "outputs": [],
   "source": [
    "        # cumulatively add up the metricks for each item key"
   ]
  },
  {
   "cell_type": "code",
   "execution_count": 18,
   "id": "graduate-dialogue",
   "metadata": {},
   "outputs": [],
   "source": [
    "     # Else, the sales item does not equal any of the item in the menu data, therefore no match"
   ]
  },
  {
   "cell_type": "code",
   "execution_count": 19,
   "id": "accepted-recovery",
   "metadata": {},
   "outputs": [],
   "source": [
    "    # incriment the row counter by 1"
   ]
  },
  {
   "cell_type": "code",
   "execution_count": 20,
   "id": "spatial-virtue",
   "metadata": {},
   "outputs": [],
   "source": [
    "# pritn total number of recors in ssales data"
   ]
  },
  {
   "cell_type": "code",
   "execution_count": 21,
   "id": "clear-aging",
   "metadata": {},
   "outputs": [],
   "source": [
    "# write out repoet to a text file"
   ]
  },
  {
   "cell_type": "code",
   "execution_count": null,
   "id": "lesbian-authority",
   "metadata": {},
   "outputs": [],
   "source": []
  }
 ],
 "metadata": {
  "kernelspec": {
   "display_name": "Python 3",
   "language": "python",
   "name": "python3"
  },
  "language_info": {
   "codemirror_mode": {
    "name": "ipython",
    "version": 3
   },
   "file_extension": ".py",
   "mimetype": "text/x-python",
   "name": "python",
   "nbconvert_exporter": "python",
   "pygments_lexer": "ipython3",
   "version": "3.8.5"
  }
 },
 "nbformat": 4,
 "nbformat_minor": 5
}
