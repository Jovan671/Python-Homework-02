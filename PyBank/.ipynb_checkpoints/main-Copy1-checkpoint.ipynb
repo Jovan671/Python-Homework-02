{
 "cells": [
  {
   "cell_type": "code",
   "execution_count": 1,
   "id": "small-declaration",
   "metadata": {},
   "outputs": [],
   "source": [
    "import csv\n",
    "from pathlib import Path"
   ]
  },
  {
   "cell_type": "code",
   "execution_count": 2,
   "id": "wired-while",
   "metadata": {},
   "outputs": [],
   "source": [
    "file_path = Path(\"Resources/budget_data.csv\")"
   ]
  },
  {
   "cell_type": "code",
   "execution_count": 3,
   "id": "blond-algebra",
   "metadata": {},
   "outputs": [],
   "source": [
    "# initialise metric variables\n",
    "total_profit_losses = 0\n",
    "month_count = 0\n",
    "average_changes = 0\n",
    "\n",
    "# initialise minimum key-value pair\n",
    "minimum_key = \"\"\n",
    "minimum_value = 0\n",
    "\n",
    "# initialise maximum key-value pair\n",
    "maximum_key = \"\"\n",
    "maximum_value = 0\n"
   ]
  },
  {
   "cell_type": "code",
   "execution_count": 20,
   "id": "entertaining-somalia",
   "metadata": {},
   "outputs": [
    {
     "name": "stdout",
     "output_type": "stream",
     "text": [
      "The total number of months : 86\n",
      "The net total in profits/losses : 640136820\n",
      "The average change in profit/losses : 7443451.4\n",
      "The greatest increase in profits : Dec-2015 : 778237\n",
      "The greatest decrease in losses: Dec-2015 : 778237\n"
     ]
    }
   ],
   "source": [
    "for Dates, Profits in Budget_Data.items():\n",
    "        total_profit_losses += int(Profits)\n",
    "        month_count += 1\n",
    "          \n",
    "average_changes_in_profit = round(total_profit_losses/month_count,2)          \n",
    "   \n",
    "if minimum_value == 0:\n",
    "          minimum_value = Profits\n",
    "          minimum_key = Dates\n",
    "elif Profits < minimum_value:\n",
    "          minimum_value = Profits\n",
    "          minumum_key = Dates\n",
    "if Profits > maximum_value == 0:\n",
    "          maximum_value = Profits\n",
    "          maximum_key = Dates\n",
    "            \n",
    "print(f\"The total number of months : {month_count}\")\n",
    "print(f\"The net total in profits/losses : {total_profit_losses}\")\n",
    "print(f\"The average change in profit/losses : {average_changes_in_profit}\")\n",
    "print(f\"The greatest increase in profits : {maximum_key} : {maximum_value}\")\n",
    "print(f\"The greatest decrease in losses: {minimum_key} : {minimum_value}\") "
   ]
  },
  {
   "cell_type": "markdown",
   "id": "atomic-violin",
   "metadata": {},
   "source": []
  }
 ],
 "metadata": {
  "kernelspec": {
   "display_name": "Python 3",
   "language": "python",
   "name": "python3"
  },
  "language_info": {
   "codemirror_mode": {
    "name": "ipython",
    "version": 3
   },
   "file_extension": ".py",
   "mimetype": "text/x-python",
   "name": "python",
   "nbconvert_exporter": "python",
   "pygments_lexer": "ipython3",
   "version": "3.8.5"
  }
 },
 "nbformat": 4,
 "nbformat_minor": 5
}
