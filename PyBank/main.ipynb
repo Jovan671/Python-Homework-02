{
 "cells": [
  {
   "cell_type": "code",
   "execution_count": 31,
   "id": "union-integrity",
   "metadata": {},
   "outputs": [],
   "source": [
    "# initialise a dictionary for financial records.\n",
    "Budget_Data = {\n",
    "    \"Jan-2010\" : 867884, \"Jan-2013\" : 359333, \"Jan-2016\" : 65000, \n",
    "    \"Feb-2010\" : 984655, \"Feb-2013\" : 321469, \"Feb-2016\" : 1100387,\n",
    "    \"Mar-2010\" : 322013, \"Mar-2013\" : 67780, \"Mar-2016\" : 174946,    \n",
    "    \"Apr-2010\" : -69417, \"Apr-2013\" : 471435,\"Apr-2016\" : 757143,\n",
    "    \"May-2010\" : 310503, \"May-2013\" : 565603, \"May-2016\" : 445709,\n",
    "    \"Jun-2010\" : 522857, \"Jun-2013\" : 872480, \"Jun-2016\" : 712961,\n",
    "    \"Jul-2010\" : 1033096, \"Jul-2013\" : 789480, \"Jul-2016\" : 1163797,\n",
    "    \"Aug-2010\" : 604855, \"Aug-2013\" : 999942, \"Aug-2016\" : 569899, \n",
    "    \"Sep-2010\" : -216386, \"Sep-2013\" : -1196225, \"Sep-2016\" : 768450,\n",
    "    \"Oct-2010\" : 477532, \"Oct-2013\" : 268977, \"Oct-2016\" : 102685,\n",
    "    \"Nov-2010\" : 893810, \"Nov-2013\" : -687986, \"Nov-2016\" : 795914,\n",
    "    \"Dec-2010\" : -80353, \"Dec-2013\" : 1150461, \"Dec-2016\" : 60988,\n",
    "    \"Jan-2011\" : 779806, \"Jan-2014\" : 682458, \"Jan-2017\" : 138230,\n",
    "    \"Feb-2011\" : -335203, \"Feb-2014\" : 617856, \"Feb-2017\" : 671099,\n",
    "    \"Mar-2011\" : 697845, \"Mar-2014\" : 824098,\n",
    "    \"Apr-2011\" : 793163, \"Apr-2014\" : 581943,\n",
    "    \"May-2011\" : 485070, \"May-2014\" : 132864,\n",
    "    \"Jun-2011\" : 584122, \"Jun-2014\" : 448062,\n",
    "    \"Jul-2011\" : 62729,  \"Jul-2014\" : 689161,\n",
    "    \"Aug-2011\" : 668179, \"Aug-2014\" : 800701,\n",
    "    \"Sep-2011\" : 899906, \"Sep-2014\" : 1166643,\n",
    "    \"Oct-2011\" : 834719, \"Oct-2014\" : 947333,\n",
    "    \"Nov-2011\" : 132003, \"Nov-2014\" : 578668,\n",
    "    \"Dec-2011\" : 309978, \"Dec-2014\" : 988505,\n",
    "    \"Jan-2012\" : -755566, \"Jan-2015\" : 1139715,\n",
    "    \"Feb-2012\" : 1170593, \"Feb-2015\" : 1029471,\n",
    "    \"Mar-2012\" : 252788, \"Mar-2015\" : 687533,\n",
    "    \"Apr-2012\" : 1151518, \"Apr-2015\" : -524626,\n",
    "    \"May-2012\" : 817256, \"May-2015\" : 158620,\n",
    "    \"Jun-2012\" : 570757, \"Jun-2015\" : 87795,\n",
    "    \"Jul-2012\" : 506702, \"Jul-2015\" : 423389,\n",
    "    \"Aug-2012\" : -1022534, \"Aug-2015\" : 840723,\n",
    "    \"Sep-2012\" : 475062, \"Sep-2015\" : 568529,\n",
    "    \"Oct-2012\" : 779976, \"Oct-2015\" : 332067,\n",
    "    \"Nov-2012\" : 144175, \"Nov-2015\" : 989499,\n",
    "    \"Dec-2012\" : 542494, \"Dec-2015\" : 778237,\n",
    "}"
   ]
  },
  {
   "cell_type": "code",
   "execution_count": 45,
   "id": "younger-correspondence",
   "metadata": {},
   "outputs": [],
   "source": [
    "# initialise metric variables\n",
    "total_profit_losses = 0\n",
    "month_count = 0\n",
    "average_changes = 0\n",
    "\n",
    "# initialise minimum key-value pair\n",
    "minimum_key = \"\"\n",
    "minimum_value = 0\n",
    "\n",
    "# initialise maximum key-value pair\n",
    "maximum_key = \"\"\n",
    "maximum_value = 0\n",
    "\n"
   ]
  },
  {
   "cell_type": "code",
   "execution_count": null,
   "id": "metallic-argument",
   "metadata": {},
   "outputs": [],
   "source": []
  },
  {
   "cell_type": "code",
   "execution_count": 67,
   "id": "alpha-interview",
   "metadata": {},
   "outputs": [
    {
     "name": "stdout",
     "output_type": "stream",
     "text": [
      "The total number of months : 86\n",
      "The net total in profits/losses : 682812608\n",
      "The average change in profit/losses : 3969840.74\n",
      "The greatest increase in profits : Dec-2015 : 778237\n",
      "The greatest decrease in losses: Dec-2015 : 0\n"
     ]
    }
   ],
   "source": [
    "for Dates, Profits in Budget_Data.items():\n",
    "        total_profit_losses += int(Profits)\n",
    "        month_count += 1\n",
    "          \n",
    "average_changes_in_profit = round(total_profit_losses/total_months,2)          \n",
    "   \n",
    "if minimum_profit == 0:\n",
    "          minimum_value = Profits\n",
    "          minimum_key = Dates\n",
    "if profits < minimum_value:\n",
    "          minimum_value = Profits\n",
    "          minumum_key = Dates\n",
    "if profits > maximum_value:\n",
    "          maximum_value = Profits\n",
    "          maximum_key = Dates\n",
    "\n",
    "\n",
    "print(f\"The total number of months : {month_count}\")\n",
    "print(f\"The net total in profits/losses : {total_profit_losses}\")\n",
    "print(f\"The average change in profit/losses : {average_changes_in_profit}\")\n",
    "print(f\"The greatest increase in profits : {maximum_key} : {maximum_value}\")\n",
    "print(f\"The greatest decrease in losses: {minimum_key} : {minimum_value}\")"
   ]
  },
  {
   "cell_type": "markdown",
   "id": "shared-promise",
   "metadata": {},
   "source": []
  },
  {
   "cell_type": "code",
   "execution_count": null,
   "id": "molecular-psychiatry",
   "metadata": {},
   "outputs": [],
   "source": []
  }
 ],
 "metadata": {
  "kernelspec": {
   "display_name": "Python 3",
   "language": "python",
   "name": "python3"
  },
  "language_info": {
   "codemirror_mode": {
    "name": "ipython",
    "version": 3
   },
   "file_extension": ".py",
   "mimetype": "text/x-python",
   "name": "python",
   "nbconvert_exporter": "python",
   "pygments_lexer": "ipython3",
   "version": "3.8.5"
  }
 },
 "nbformat": 4,
 "nbformat_minor": 5
}
